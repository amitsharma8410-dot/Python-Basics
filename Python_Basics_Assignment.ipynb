{
 "cells": [
  {
   "cell_type": "markdown",
   "metadata": {
    "id": "bfXjA8HfH1ng"
   },
   "source": [
    "# Python Basics Questions\n"
   ]
  },
  {
   "cell_type": "markdown",
   "metadata": {
    "id": "_uqN8KH8IZH4"
   },
   "source": [
    "1. What is Python, and why is it popular?\n",
    "   - Python is a high-level, general-purpose programming language known for its readable syntax, ease of learning, and versatility. Python is popular because it provides a blend of readability, ease of use, broad applicability, fast development, and a rich ecosystem that appeals to both beginners and professionals across many domains.\n",
    "\n",
    "2. What is an interpreter in Python?\n",
    "   - A Python interpreter is a program that reads and executes Python code line by line, allowing for immediate execution without compilation\n",
    "\n",
    "3. What are pre-defined keywords in Python?\n",
    "   - Pre-defined keywords are reserved words in Python like\n",
    "have special syntax and cannot be used as identifiers.\n",
    "\n",
    "4. Can keywords be used as variable names?\n",
    "   - No, Python keywords cannot be used as variable names or identifiers    because they have\n",
    "   reserved meanings.\n",
    "\n",
    "5. What is mutability in Python?\n",
    "   - Mutability is the ability of an object to be changed after it is created. Mutable objects like lists can be modified, while immutable objects like tuples cannot.\n",
    "\n",
    "6. Why are lists mutable, but tuples are immutable?\n",
    "   - Lists are mutable because they are designed to allow modifications such as adding or removing elements, whereas tuples are immutable to ensure they remain constant and hashable, making them suitable for fixed data.\n",
    "\n",
    "7. What is the difference between “==” and “is” operators in Python?\n",
    "   - == checks if two variables have the same value, while is checks if they are the exact same object in memory.\n",
    "\n",
    "8. What are logical operators in Python?\n",
    "   - Logical operators (and, or, not) combine conditional statements to return True or False based on the logic of the expressions.\n",
    "\n",
    "9. What is type casting in Python?\n",
    "   - Type casting is converting a variable from one data type to another, such as converting a string to an integer.\n",
    "\n",
    "10. What is the difference between implicit and explicit type casting?\n",
    "    - Implicit casting is automatic conversion by Python between compatible types; explicit casting is done manually by the programmer using functions like int(),str(), etc..\n",
    "\n",
    "11. What is the purpose of conditional statements in Python?\n",
    "    - Conditional statements control the flow of execution by running different code blocks based on whether conditions evaluate to true or false.\n",
    "\n",
    "12. How does the elif statement work?\n",
    "    - elif allows checking multiple conditions sequentially after an initial\n",
    "      if condition; the first true condition's block executes.\n",
    "\n",
    "13. What is the difference between for and while loops?\n",
    "    - A for loop iterates over a sequence for a predetermined number of times, while a while loop runs as long as a condition remains true.\n",
    "\n",
    "14. Describe a scenario where a while loop is more suitable than a for loop.\n",
    "    -  While loops are best when the number of iterations is unknown beforehand, such as reading user input repeatedly until a valid response is given."
   ]
  },
  {
   "cell_type": "markdown",
   "metadata": {
    "id": "royeGwwErEa0"
   },
   "source": [
    "# **Practicle Questions.**\n"
   ]
  },
  {
   "cell_type": "code",
   "execution_count": 1,
   "metadata": {
    "id": "fD7RoYOUstg2"
   },
   "outputs": [
    {
     "name": "stdout",
     "output_type": "stream",
     "text": [
      "Hello World\n"
     ]
    }
   ],
   "source": [
    "# 1. Write a Python program to print \"Hello, World!\"\n",
    "\n",
    "print(\"Hello World\")"
   ]
  },
  {
   "cell_type": "code",
   "execution_count": 2,
   "metadata": {
    "id": "yaSCzq1ctPMK"
   },
   "outputs": [
    {
     "name": "stdout",
     "output_type": "stream",
     "text": [
      "Amit\n",
      "25\n"
     ]
    }
   ],
   "source": [
    "# 2. Write a Python program that displays your name and age.\n",
    "\n",
    "name = \"Amit\" # Funtion to print name\n",
    "age = 25  # Funtion to print age\n",
    "print(name)\n",
    "print(age)"
   ]
  },
  {
   "cell_type": "code",
   "execution_count": 3,
   "metadata": {
    "id": "GZvLOuhfybbJ"
   },
   "outputs": [
    {
     "name": "stdout",
     "output_type": "stream",
     "text": [
      "False\n",
      "None\n",
      "True\n",
      "and\n",
      "as\n",
      "assert\n",
      "async\n",
      "await\n",
      "break\n",
      "class\n",
      "continue\n",
      "def\n",
      "del\n",
      "elif\n",
      "else\n",
      "except\n",
      "finally\n",
      "for\n",
      "from\n",
      "global\n",
      "if\n",
      "import\n",
      "in\n",
      "is\n",
      "lambda\n",
      "nonlocal\n",
      "not\n",
      "or\n",
      "pass\n",
      "raise\n",
      "return\n",
      "try\n",
      "while\n",
      "with\n",
      "yield\n"
     ]
    }
   ],
   "source": [
    "#3. Write code to print all the pre-defined keywords in Python using the keyword library.\n",
    "\n",
    "import keyword\n",
    "for kw in keyword.kwlist:\n",
    "  print(kw)"
   ]
  },
  {
   "cell_type": "code",
   "execution_count": 4,
   "metadata": {
    "id": "7nYpA1JH3sxC"
   },
   "outputs": [
    {
     "name": "stdin",
     "output_type": "stream",
     "text": [
      "Enter a word:  remove\n"
     ]
    },
    {
     "name": "stdout",
     "output_type": "stream",
     "text": [
      "\"remove\" is NOT a Python keyword.\n"
     ]
    }
   ],
   "source": [
    "#4. Write a program that checks if a given word is a Python keyword.\n",
    "\n",
    "import keyword\n",
    "\n",
    "# Input from user\n",
    "word = input(\"Enter a word: \")\n",
    "\n",
    "# Check if the word is a Python keyword\n",
    "if keyword.iskeyword(word):\n",
    "    print(f'\"{word}\" is a Python keyword.')\n",
    "else:\n",
    "    print(f'\"{word}\" is NOT a Python keyword.')\n",
    "\n"
   ]
  },
  {
   "cell_type": "code",
   "execution_count": 5,
   "metadata": {
    "id": "SsHZtWdu_Lq9"
   },
   "outputs": [
    {
     "name": "stdout",
     "output_type": "stream",
     "text": [
      "Original list: [12, 34, 52]\n",
      "Modified list: [12, 45, 52]\n",
      "Original tuple: (21, 22, 23)\n",
      "Error while modifying tuple: 'tuple' object does not support item assignment\n"
     ]
    }
   ],
   "source": [
    "#5. Create a list and tuple in Python, and demonstrate how attempting to change an element works differently for each.\n",
    "\n",
    "# Create a list (which is mutable)\n",
    "my_list = [12, 34, 52]\n",
    "print(\"Original list:\", my_list)\n",
    "\n",
    "# Change an element in the list\n",
    "my_list[1] = 45\n",
    "print(\"Modified list:\", my_list)\n",
    "\n",
    "# Create a tuple (which is immutable)\n",
    "my_tuple = (21, 22, 23)\n",
    "print(\"Original tuple:\", my_tuple)\n",
    "\n",
    "# Try to change an element in the tuple (this will cause an error)\n",
    "try:\n",
    "    my_tuple[1] = 45\n",
    "except TypeError as e:\n",
    "    print(\"Error while modifying tuple:\", e)\n"
   ]
  },
  {
   "cell_type": "code",
   "execution_count": 6,
   "metadata": {
    "id": "BbrTwmEZEN9U"
   },
   "outputs": [
    {
     "name": "stdout",
     "output_type": "stream",
     "text": [
      "10\n",
      "[1, 2, 3, 100]\n"
     ]
    }
   ],
   "source": [
    "#6. Write a function to demonstrate the behavior of mutable and immutable arguments.\n",
    "\n",
    "def change_values(num, lst):\n",
    "    num = 100       # creates a new object, does not change original\n",
    "    lst.append(100) # changes the original list\n",
    "\n",
    "a = 10\n",
    "b = [1, 2, 3]\n",
    "change_values(a, b)\n",
    "print(a)  # prints 10 (unchanged)\n",
    "print(b)  # prints [1, 2, 3, 100] (changed)\n"
   ]
  },
  {
   "cell_type": "code",
   "execution_count": 7,
   "metadata": {
    "id": "uuV9gg3vPZxm"
   },
   "outputs": [
    {
     "name": "stdout",
     "output_type": "stream",
     "text": [
      "Sum 40\n",
      "Subtraction 10\n",
      "Multiplication 375\n",
      "Devision 1.6666666666666667\n"
     ]
    }
   ],
   "source": [
    "#7. Write a program that performs basic arithmetic operations on two user-input numbers.\n",
    "\n",
    "# Get two numbers from the user\n",
    "a = 25\n",
    "b = 15\n",
    "\n",
    "# Perform arithmetic operations and print results\n",
    "\n",
    "print(\"Sum\",a + b)\n",
    "print(\"Subtraction\", a - b)\n",
    "print(\"Multiplication\", a * b)\n",
    "print(\"Devision\", a / b)\n",
    "\n"
   ]
  },
  {
   "cell_type": "code",
   "execution_count": 8,
   "metadata": {
    "id": "Zz6wpMItTR5Q"
   },
   "outputs": [
    {
     "name": "stdout",
     "output_type": "stream",
     "text": [
      "True\n",
      "True\n",
      "False\n"
     ]
    }
   ],
   "source": [
    "#8. Write a program to demonstrate the use of logical operators.\n",
    "x = 7\n",
    "y = 3\n",
    "print(x > 5 and y < 4)  # True if both are positive\n",
    "print(x > 5 or y < 4)   # True if any is positive\n",
    "print(not(x > 5 and y < 4))       # Negation\n"
   ]
  },
  {
   "cell_type": "code",
   "execution_count": 9,
   "metadata": {
    "id": "1ISOHHEbUQvW"
   },
   "outputs": [
    {
     "name": "stdin",
     "output_type": "stream",
     "text": [
      "Enter a number 23\n"
     ]
    },
    {
     "name": "stdout",
     "output_type": "stream",
     "text": [
      "As integer: 23\n",
      "As float: 23.0\n",
      "As boolean: True\n"
     ]
    }
   ],
   "source": [
    "#9. Write a Python program to convert user input from string to integer, float, and boolean types.\n",
    "\n",
    "Num = int(input(\"Enter a number\"))\n",
    "\n",
    "print(\"As integer:\", int(Num))\n",
    "print(\"As float:\", float(Num))\n",
    "print(\"As boolean:\", bool(Num))"
   ]
  },
  {
   "cell_type": "code",
   "execution_count": 10,
   "metadata": {
    "id": "OD_qH0sVZEAH"
   },
   "outputs": [
    {
     "name": "stdout",
     "output_type": "stream",
     "text": [
      "Original list: ['1', '2', '3']\n",
      "After type casting: [1, 2, 3]\n"
     ]
    }
   ],
   "source": [
    "#10. Write code to demonstrate type casting with list elements.\n",
    "\n",
    "string_list = ['1', '2', '3']\n",
    "int_list = []\n",
    "\n",
    "for item in string_list:\n",
    "    int_list.append(int(item))\n",
    "\n",
    "print(\"Original list:\", string_list)\n",
    "print(\"After type casting:\", int_list)"
   ]
  },
  {
   "cell_type": "code",
   "execution_count": 11,
   "metadata": {
    "id": "QsRqLIQRZRo6"
   },
   "outputs": [
    {
     "name": "stdin",
     "output_type": "stream",
     "text": [
      "Enter the number  45\n"
     ]
    },
    {
     "name": "stdout",
     "output_type": "stream",
     "text": [
      " positive\n"
     ]
    }
   ],
   "source": [
    "#11. Write a program that checks if a number is positive, negative, or zero.\n",
    "\n",
    "num = float(input(\"Enter the number \"))\n",
    "if num > 0:\n",
    "    print(\" positive\")\n",
    "elif num < 0:\n",
    "    print(\" negative\")\n",
    "else:\n",
    "    print(\" zero\")"
   ]
  },
  {
   "cell_type": "code",
   "execution_count": 12,
   "metadata": {
    "id": "U6MkvlemZYhe"
   },
   "outputs": [
    {
     "name": "stdout",
     "output_type": "stream",
     "text": [
      "1\n",
      "2\n",
      "3\n",
      "4\n",
      "5\n",
      "6\n",
      "7\n",
      "8\n",
      "9\n",
      "10\n"
     ]
    }
   ],
   "source": [
    "#12. Write a for loop to print numbers from 1 to 10.\n",
    "\n",
    "for i in range(1, 11):\n",
    "    print(i)"
   ]
  },
  {
   "cell_type": "code",
   "execution_count": 13,
   "metadata": {
    "id": "nLGTI_8kZa9C"
   },
   "outputs": [
    {
     "name": "stdout",
     "output_type": "stream",
     "text": [
      "Sum of even numbers between 1 and 50: 0\n"
     ]
    }
   ],
   "source": [
    "#13. Write a Python program to find the sum of all even numbers between 1 and 50.\n",
    "\n",
    "total = 0\n",
    "for i in range(1, 51, 36):\n",
    "    if i % 2 == 0:\n",
    "        total += i\n",
    "print(\"Sum of even numbers between 1 and 50:\", total)"
   ]
  },
  {
   "cell_type": "code",
   "execution_count": 14,
   "metadata": {
    "id": "79fXq1qFZexC"
   },
   "outputs": [
    {
     "name": "stdin",
     "output_type": "stream",
     "text": [
      "Enter a string:  amit\n"
     ]
    },
    {
     "name": "stdout",
     "output_type": "stream",
     "text": [
      "Reversed string: tima\n"
     ]
    }
   ],
   "source": [
    "#14. Write a program to reverse a string using a while loop.\n",
    "\n",
    "s = input(\"Enter a string: \")\n",
    "rev = ''\n",
    "i = len(s) - 1\n",
    "while i >= 0:\n",
    "    rev += s[i]\n",
    "    i -= 1\n",
    "print(\"Reversed string:\", rev)"
   ]
  },
  {
   "cell_type": "code",
   "execution_count": 15,
   "metadata": {
    "id": "e6MsZ9IwZkLf"
   },
   "outputs": [
    {
     "name": "stdin",
     "output_type": "stream",
     "text": [
      "Enter a number:  54\n"
     ]
    },
    {
     "name": "stdout",
     "output_type": "stream",
     "text": [
      "Factorial of 54 is 230843697339241380472092742683027581083278564571807941132288000000000000\n"
     ]
    }
   ],
   "source": [
    "#15. Write a Python program to calculate the factorial of a number provided by the user using a while loop.\n",
    "\n",
    "n = int(input(\"Enter a number: \"))\n",
    "fact = 1\n",
    "i = 1\n",
    "while i <= n:\n",
    "    fact *= i\n",
    "    i += 1\n",
    "print(f\"Factorial of {n} is {fact}\")"
   ]
  },
  {
   "cell_type": "code",
   "execution_count": null,
   "metadata": {},
   "outputs": [],
   "source": []
  }
 ],
 "metadata": {
  "colab": {
   "provenance": []
  },
  "kernelspec": {
   "display_name": "Python 3 (ipykernel)",
   "language": "python",
   "name": "python3"
  },
  "language_info": {
   "codemirror_mode": {
    "name": "ipython",
    "version": 3
   },
   "file_extension": ".py",
   "mimetype": "text/x-python",
   "name": "python",
   "nbconvert_exporter": "python",
   "pygments_lexer": "ipython3",
   "version": "3.13.5"
  }
 },
 "nbformat": 4,
 "nbformat_minor": 4
}
