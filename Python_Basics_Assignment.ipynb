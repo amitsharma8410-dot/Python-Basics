{
  "cells": [
    {
      "cell_type": "markdown",
      "metadata": {
        "id": "bfXjA8HfH1ng"
      },
      "source": [
        "# Python Basics Questions\n"
      ]
    },
    {
      "cell_type": "markdown",
      "metadata": {
        "id": "_uqN8KH8IZH4"
      },
      "source": [
        "1. What is Python, and why is it popular?\n",
        "   - Python is a high-level, general-purpose programming language known for its readable syntax, ease of learning, and versatility. Python is popular because it provides a blend of readability, ease of use, broad applicability, fast development, and a rich ecosystem that appeals to both beginners and professionals across many domains.\n",
        "\n",
        "2. What is an interpreter in Python?\n",
        "   - A Python interpreter is a program that reads and executes Python code line by line, allowing for immediate execution without compilation\n",
        "\n",
        "3. What are pre-defined keywords in Python?\n",
        "   - Pre-defined keywords are reserved words in Python like\n",
        "have special syntax and cannot be used as identifiers.\n",
        "\n",
        "4. Can keywords be used as variable names?\n",
        "   - No, Python keywords cannot be used as variable names or identifiers    because they have\n",
        "   reserved meanings.\n",
        "\n",
        "5. What is mutability in Python?\n",
        "   - Mutability is the ability of an object to be changed after it is created. Mutable objects like lists can be modified, while immutable objects like tuples cannot.\n",
        "\n",
        "6. Why are lists mutable, but tuples are immutable?\n",
        "   - Lists are mutable because they are designed to allow modifications such as adding or removing elements, whereas tuples are immutable to ensure they remain constant and hashable, making them suitable for fixed data.\n",
        "\n",
        "7. What is the difference between “==” and “is” operators in Python?\n",
        "   - == checks if two variables have the same value, while is checks if they are the exact same object in memory.\n",
        "\n",
        "8. What are logical operators in Python?\n",
        "   - Logical operators (and, or, not) combine conditional statements to return True or False based on the logic of the expressions.\n",
        "\n",
        "9. What is type casting in Python?\n",
        "   - Type casting is converting a variable from one data type to another, such as converting a string to an integer.\n",
        "\n",
        "10. What is the difference between implicit and explicit type casting?\n",
        "    - Implicit casting is automatic conversion by Python between compatible types; explicit casting is done manually by the programmer using functions like int(),str(), etc..\n",
        "\n",
        "11. What is the purpose of conditional statements in Python?\n",
        "    - Conditional statements control the flow of execution by running different code blocks based on whether conditions evaluate to true or false.\n",
        "\n",
        "12. How does the elif statement work?\n",
        "    - elif allows checking multiple conditions sequentially after an initial\n",
        "      if condition; the first true condition's block executes.\n",
        "\n",
        "13. What is the difference between for and while loops?\n",
        "    - A for loop iterates over a sequence for a predetermined number of times, while a while loop runs as long as a condition remains true.\n",
        "\n",
        "14. Describe a scenario where a while loop is more suitable than a for loop.\n",
        "    -  While loops are best when the number of iterations is unknown beforehand, such as reading user input repeatedly until a valid response is given."
      ]
    },
    {
      "cell_type": "markdown",
      "source": [
        "# **Practicle Questions.**\n"
      ],
      "metadata": {
        "id": "royeGwwErEa0"
      }
    },
    {
      "cell_type": "code",
      "execution_count": null,
      "metadata": {
        "id": "fD7RoYOUstg2"
      },
      "outputs": [],
      "source": [
        "# 1. Write a Python program to print \"Hello, World!\"\n",
        "\n",
        "print(\"Hello World\")"
      ]
    },
    {
      "cell_type": "code",
      "execution_count": null,
      "metadata": {
        "id": "yaSCzq1ctPMK"
      },
      "outputs": [],
      "source": [
        "# 2. Write a Python program that displays your name and age.\n",
        "\n",
        "name = \"Amit\" # Funtion to print name\n",
        "age = 25  # Funtion to print age\n",
        "print(name)\n",
        "print(age)"
      ]
    },
    {
      "cell_type": "code",
      "execution_count": null,
      "metadata": {
        "id": "GZvLOuhfybbJ"
      },
      "outputs": [],
      "source": [
        "#3. Write code to print all the pre-defined keywords in Python using the keyword library.\n",
        "\n",
        "import keyword\n",
        "for kw in keyword.kwlist:\n",
        "  print(kw)"
      ]
    },
    {
      "cell_type": "code",
      "execution_count": null,
      "metadata": {
        "id": "7nYpA1JH3sxC"
      },
      "outputs": [],
      "source": [
        "#4. Write a program that checks if a given word is a Python keyword.\n",
        "\n",
        "import keyword\n",
        "\n",
        "# Input from user\n",
        "word = input(\"Enter a word: \")\n",
        "\n",
        "# Check if the word is a Python keyword\n",
        "if keyword.iskeyword(word):\n",
        "    print(f'\"{word}\" is a Python keyword.')\n",
        "else:\n",
        "    print(f'\"{word}\" is NOT a Python keyword.')\n",
        "\n"
      ]
    },
    {
      "cell_type": "code",
      "execution_count": null,
      "metadata": {
        "id": "SsHZtWdu_Lq9"
      },
      "outputs": [],
      "source": [
        "#5. Create a list and tuple in Python, and demonstrate how attempting to change an element works differently for each.\n",
        "\n",
        "# Create a list (which is mutable)\n",
        "my_list = [12, 34, 52]\n",
        "print(\"Original list:\", my_list)\n",
        "\n",
        "# Change an element in the list\n",
        "my_list[1] = 45\n",
        "print(\"Modified list:\", my_list)\n",
        "\n",
        "# Create a tuple (which is immutable)\n",
        "my_tuple = (21, 22, 23)\n",
        "print(\"Original tuple:\", my_tuple)\n",
        "\n",
        "# Try to change an element in the tuple (this will cause an error)\n",
        "try:\n",
        "    my_tuple[1] = 45\n",
        "except TypeError as e:\n",
        "    print(\"Error while modifying tuple:\", e)\n"
      ]
    },
    {
      "cell_type": "code",
      "execution_count": null,
      "metadata": {
        "id": "BbrTwmEZEN9U"
      },
      "outputs": [],
      "source": [
        "#6. Write a function to demonstrate the behavior of mutable and immutable arguments.\n",
        "\n",
        "def change_values(num, lst):\n",
        "    num = 100       # creates a new object, does not change original\n",
        "    lst.append(100) # changes the original list\n",
        "\n",
        "a = 10\n",
        "b = [1, 2, 3]\n",
        "change_values(a, b)\n",
        "print(a)  # prints 10 (unchanged)\n",
        "print(b)  # prints [1, 2, 3, 100] (changed)\n"
      ]
    },
    {
      "cell_type": "code",
      "execution_count": null,
      "metadata": {
        "id": "uuV9gg3vPZxm"
      },
      "outputs": [],
      "source": [
        "#7. Write a program that performs basic arithmetic operations on two user-input numbers.\n",
        "\n",
        "# Get two numbers from the user\n",
        "a = 25\n",
        "b = 15\n",
        "\n",
        "# Perform arithmetic operations and print results\n",
        "\n",
        "print(\"Sum\",a + b)\n",
        "print(\"Subtraction\", a - b)\n",
        "print(\"Multiplication\", a * b)\n",
        "print(\"Devision\", a / b)\n",
        "\n"
      ]
    },
    {
      "cell_type": "code",
      "execution_count": null,
      "metadata": {
        "id": "Zz6wpMItTR5Q"
      },
      "outputs": [],
      "source": [
        "#8. Write a program to demonstrate the use of logical operators.\n",
        "x = 7\n",
        "y = 3\n",
        "print(x > 5 and y < 4)  # True if both are positive\n",
        "print(x > 5 or y < 4)   # True if any is positive\n",
        "print(not(x > 5 and y < 4))       # Negation\n"
      ]
    },
    {
      "cell_type": "code",
      "execution_count": null,
      "metadata": {
        "id": "1ISOHHEbUQvW"
      },
      "outputs": [],
      "source": [
        "#9. Write a Python program to convert user input from string to integer, float, and boolean types.\n",
        "\n",
        "Num = int(input(\"Enter a number\"))\n",
        "\n",
        "print(\"As integer:\", int(Num))\n",
        "print(\"As float:\", float(Num))\n",
        "print(\"As boolean:\", bool(Num))"
      ]
    },
    {
      "cell_type": "code",
      "execution_count": null,
      "metadata": {
        "id": "OD_qH0sVZEAH"
      },
      "outputs": [],
      "source": [
        "#10. Write code to demonstrate type casting with list elements.\n",
        "\n",
        "string_list = ['1', '2', '3']\n",
        "int_list = []\n",
        "\n",
        "for item in string_list:\n",
        "    int_list.append(int(item))\n",
        "\n",
        "print(\"Original list:\", string_list)\n",
        "print(\"After type casting:\", int_list)"
      ]
    },
    {
      "cell_type": "code",
      "execution_count": null,
      "metadata": {
        "id": "QsRqLIQRZRo6"
      },
      "outputs": [],
      "source": [
        "#11. Write a program that checks if a number is positive, negative, or zero.\n",
        "\n",
        "num = float(input(\"Enter the number \"))\n",
        "if num > 0:\n",
        "    print(\" positive\")\n",
        "elif num < 0:\n",
        "    print(\" negative\")\n",
        "else:\n",
        "    print(\" zero\")"
      ]
    },
    {
      "cell_type": "code",
      "execution_count": null,
      "metadata": {
        "id": "U6MkvlemZYhe"
      },
      "outputs": [],
      "source": [
        "#12. Write a for loop to print numbers from 1 to 10.\n",
        "\n",
        "for i in range(1, 11):\n",
        "    print(i)"
      ]
    },
    {
      "cell_type": "code",
      "execution_count": null,
      "metadata": {
        "id": "nLGTI_8kZa9C"
      },
      "outputs": [],
      "source": [
        "#13. Write a Python program to find the sum of all even numbers between 1 and 50.\n",
        "\n",
        "total = 0\n",
        "for i in range(1, 51, 36):\n",
        "    if i % 2 == 0:\n",
        "        total += i\n",
        "print(\"Sum of even numbers between 1 and 50:\", total)"
      ]
    },
    {
      "cell_type": "code",
      "execution_count": null,
      "metadata": {
        "id": "79fXq1qFZexC"
      },
      "outputs": [],
      "source": [
        "#14. Write a program to reverse a string using a while loop.\n",
        "\n",
        "s = input(\"Enter a string: \")\n",
        "rev = ''\n",
        "i = len(s) - 1\n",
        "while i >= 0:\n",
        "    rev += s[i]\n",
        "    i -= 1\n",
        "print(\"Reversed string:\", rev)"
      ]
    },
    {
      "cell_type": "code",
      "execution_count": null,
      "metadata": {
        "id": "e6MsZ9IwZkLf"
      },
      "outputs": [],
      "source": [
        "#15. Write a Python program to calculate the factorial of a number provided by the user using a while loop.\n",
        "\n",
        "n = int(input(\"Enter a number: \"))\n",
        "fact = 1\n",
        "i = 1\n",
        "while i <= n:\n",
        "    fact *= i\n",
        "    i += 1\n",
        "print(f\"Factorial of {n} is {fact}\")"
      ]
    }
  ],
  "metadata": {
    "colab": {
      "provenance": []
    },
    "kernelspec": {
      "display_name": "Python 3",
      "language": "python",
      "name": "python3"
    },
    "language_info": {
      "codemirror_mode": {
        "name": "ipython",
        "version": 3
      },
      "file_extension": ".py",
      "mimetype": "text/x-python",
      "name": "python",
      "nbconvert_exporter": "python",
      "pygments_lexer": "ipython3",
      "version": "3.13.7"
    }
  },
  "nbformat": 4,
  "nbformat_minor": 0
}